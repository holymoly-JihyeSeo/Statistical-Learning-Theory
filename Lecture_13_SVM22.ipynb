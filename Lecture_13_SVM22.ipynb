{
  "nbformat": 4,
  "nbformat_minor": 0,
  "metadata": {
    "colab": {
      "name": "Lecture_13_SVM22.ipynb",
      "provenance": [],
      "collapsed_sections": []
    },
    "kernelspec": {
      "name": "python3",
      "display_name": "Python 3"
    }
  },
  "cells": [
    {
      "cell_type": "code",
      "metadata": {
        "id": "ENKkhvLw3jG1",
        "colab_type": "code",
        "colab": {}
      },
      "source": [
        "#Importing Libraries, Implementing Kernel SVM with Scikit-Learn\n",
        "import numpy as np\n",
        "import matplotlib.pyplot as plt\n",
        "import pandas as pd"
      ],
      "execution_count": 0,
      "outputs": []
    },
    {
      "cell_type": "code",
      "metadata": {
        "id": "8Mojh1Am3opm",
        "colab_type": "code",
        "colab": {}
      },
      "source": [
        "# Importing the Dataset\n",
        "url = \"https://archive.ics.uci.edu/ml/machine-learning-databases/iris/iris.data\"\n",
        "\n",
        "# Assign colum names to the dataset\n",
        "colnames = ['sepal-length', 'sepal-width', 'petal-length', 'petal-width', 'Class']\n",
        "\n",
        "# Read dataset to pandas dataframe\n",
        "irisdata = pd.read_csv(url, names=colnames)"
      ],
      "execution_count": 0,
      "outputs": []
    },
    {
      "cell_type": "code",
      "metadata": {
        "id": "ldfVAWhe3uQY",
        "colab_type": "code",
        "colab": {}
      },
      "source": [
        "# Preprocessing\n",
        "X = irisdata.drop('Class', axis=1)\n",
        "y = irisdata['Class']"
      ],
      "execution_count": 0,
      "outputs": []
    },
    {
      "cell_type": "code",
      "metadata": {
        "id": "-LRSaL2h3xwf",
        "colab_type": "code",
        "outputId": "13236a7a-e117-442d-e236-07909ffaa9e9",
        "colab": {
          "base_uri": "https://localhost:8080/",
          "height": 279
        }
      },
      "source": [
        "# Train Test Split\n",
        "from sklearn.model_selection import train_test_split\n",
        "X_train, X_test, y_train, y_test = train_test_split(X, y, test_size = 0.20)\n",
        "print (X_train)"
      ],
      "execution_count": 131,
      "outputs": [
        {
          "output_type": "stream",
          "text": [
            "     sepal-length  sepal-width  petal-length  petal-width\n",
            "105           7.6          3.0           6.6          2.1\n",
            "61            5.9          3.0           4.2          1.5\n",
            "90            5.5          2.6           4.4          1.2\n",
            "113           5.7          2.5           5.0          2.0\n",
            "77            6.7          3.0           5.0          1.7\n",
            "..            ...          ...           ...          ...\n",
            "15            5.7          4.4           1.5          0.4\n",
            "76            6.8          2.8           4.8          1.4\n",
            "12            4.8          3.0           1.4          0.1\n",
            "19            5.1          3.8           1.5          0.3\n",
            "126           6.2          2.8           4.8          1.8\n",
            "\n",
            "[120 rows x 4 columns]\n"
          ],
          "name": "stdout"
        }
      ]
    },
    {
      "cell_type": "code",
      "metadata": {
        "id": "4_SaO2Ux3z0Z",
        "colab_type": "code",
        "outputId": "f878d49f-d56a-492a-ba76-58979e57a42b",
        "colab": {
          "base_uri": "https://localhost:8080/",
          "height": 92
        }
      },
      "source": [
        "# Training the Algorithm\n",
        "# To train the kernel SVM, we use the same SVC class of the Scikit-Learn's svm library. The difference lies in the value for the kernel parameter of the SVC class.\n",
        "#  for kernel SVM you can use Gaussian, polynomial, sigmoid, or computable kernel.\n",
        "from sklearn.svm import SVC\n",
        "#svclassifier = SVC(kernel='poly', degree=3)\n",
        "#svclassifier = SVC(kernel='sigmoid')\n",
        "svclassifier = SVC(kernel='linear')\n",
        "\n",
        "svclassifier.fit(X_train, y_train)"
      ],
      "execution_count": 132,
      "outputs": [
        {
          "output_type": "execute_result",
          "data": {
            "text/plain": [
              "SVC(C=1.0, cache_size=200, class_weight=None, coef0=0.0,\n",
              "    decision_function_shape='ovr', degree=3, gamma='auto_deprecated',\n",
              "    kernel='linear', max_iter=-1, probability=False, random_state=None,\n",
              "    shrinking=True, tol=0.001, verbose=False)"
            ]
          },
          "metadata": {
            "tags": []
          },
          "execution_count": 132
        }
      ]
    },
    {
      "cell_type": "code",
      "metadata": {
        "id": "aPuwDheU32b3",
        "colab_type": "code",
        "outputId": "56fd0356-9ad0-4df9-ae0d-545945af76a4",
        "colab": {
          "base_uri": "https://localhost:8080/",
          "height": 260
        }
      },
      "source": [
        "# Making Predictions & evaluation\n",
        "y_pred = svclassifier.predict(X_test)\n",
        "\n",
        "# Evaluating the Algorithm\n",
        "\n",
        "from sklearn.metrics import classification_report, confusion_matrix\n",
        "print(confusion_matrix(y_test, y_pred))\n",
        "print(classification_report(y_test, y_pred))"
      ],
      "execution_count": 133,
      "outputs": [
        {
          "output_type": "stream",
          "text": [
            "[[12  0  0]\n",
            " [ 0  8  1]\n",
            " [ 0  0  9]]\n",
            "                 precision    recall  f1-score   support\n",
            "\n",
            "    Iris-setosa       1.00      1.00      1.00        12\n",
            "Iris-versicolor       1.00      0.89      0.94         9\n",
            " Iris-virginica       0.90      1.00      0.95         9\n",
            "\n",
            "       accuracy                           0.97        30\n",
            "      macro avg       0.97      0.96      0.96        30\n",
            "   weighted avg       0.97      0.97      0.97        30\n",
            "\n"
          ],
          "name": "stdout"
        }
      ]
    }
  ]
}